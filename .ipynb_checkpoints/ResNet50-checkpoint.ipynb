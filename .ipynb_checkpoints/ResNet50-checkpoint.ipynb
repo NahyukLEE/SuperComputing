{
 "cells": [
  {
   "cell_type": "code",
   "execution_count": 1,
   "metadata": {
    "executionInfo": {
     "elapsed": 249,
     "status": "ok",
     "timestamp": 1629014685144,
     "user": {
      "displayName": "이나혁",
      "photoUrl": "https://lh3.googleusercontent.com/a-/AOh14GgmDM2Pcw1ZQSIoZdYOSzzg-AwjQAorQXTjLB4b=s64",
      "userId": "16382593211465755831"
     },
     "user_tz": -540
    },
    "id": "8hFF6s-prRjg"
   },
   "outputs": [],
   "source": [
    "# model\n",
    "import torch\n",
    "import torch.nn as nn\n",
    "import torch.nn.functional as F\n",
    "from torchsummary import summary\n",
    "from torch import optim\n",
    "from torch.optim.lr_scheduler import StepLR\n",
    "\n",
    "# dataset and transformation\n",
    "from torchvision import datasets\n",
    "import torchvision.transforms as transforms\n",
    "from torch.utils.data import DataLoader\n",
    "import os\n",
    "from skimage import io, transform\n",
    "\n",
    "# display images\n",
    "from torchvision import utils\n",
    "import torchvision\n",
    "import matplotlib.pyplot as plt\n",
    "%matplotlib inline\n",
    "\n",
    "# utils\n",
    "import numpy as np\n",
    "from torchsummary import summary\n",
    "import time\n",
    "import copy\n",
    "\n",
    "from sklearn.metrics import mean_squared_error"
   ]
  },
  {
   "cell_type": "code",
   "execution_count": 2,
   "metadata": {
    "colab": {
     "base_uri": "https://localhost:8080/",
     "height": 162
    },
    "executionInfo": {
     "elapsed": 266,
     "status": "ok",
     "timestamp": 1629013921424,
     "user": {
      "displayName": "이나혁",
      "photoUrl": "https://lh3.googleusercontent.com/a-/AOh14GgmDM2Pcw1ZQSIoZdYOSzzg-AwjQAorQXTjLB4b=s64",
      "userId": "16382593211465755831"
     },
     "user_tz": -540
    },
    "id": "x1La2kQYrkfP",
    "outputId": "2b54c9ce-b487-40ae-fee4-4a94587b3f4c"
   },
   "outputs": [
    {
     "data": {
      "text/html": [
       "<div>\n",
       "<style scoped>\n",
       "    .dataframe tbody tr th:only-of-type {\n",
       "        vertical-align: middle;\n",
       "    }\n",
       "\n",
       "    .dataframe tbody tr th {\n",
       "        vertical-align: top;\n",
       "    }\n",
       "\n",
       "    .dataframe thead th {\n",
       "        text-align: right;\n",
       "    }\n",
       "</style>\n",
       "<table border=\"1\" class=\"dataframe\">\n",
       "  <thead>\n",
       "    <tr style=\"text-align: right;\">\n",
       "      <th></th>\n",
       "      <th>directory</th>\n",
       "      <th>heat</th>\n",
       "      <th>weight</th>\n",
       "      <th>colorfulness</th>\n",
       "      <th>saturation</th>\n",
       "      <th>brightness</th>\n",
       "      <th>pleasure</th>\n",
       "      <th>dominance</th>\n",
       "      <th>horizontal_intensity</th>\n",
       "      <th>vertical_intensity</th>\n",
       "      <th>...</th>\n",
       "      <th>waveletAV</th>\n",
       "      <th>waveletAD</th>\n",
       "      <th>waveletBH</th>\n",
       "      <th>waveletBV</th>\n",
       "      <th>waveletBD</th>\n",
       "      <th>vertical_similarity</th>\n",
       "      <th>horizontal_similarity</th>\n",
       "      <th>ruleOfThirds</th>\n",
       "      <th>a</th>\n",
       "      <th>v</th>\n",
       "    </tr>\n",
       "  </thead>\n",
       "  <tbody>\n",
       "    <tr>\n",
       "      <th>45</th>\n",
       "      <td>database/painting/46.jpg</td>\n",
       "      <td>-0.656439</td>\n",
       "      <td>-0.441647</td>\n",
       "      <td>40.601753</td>\n",
       "      <td>0.551661</td>\n",
       "      <td>0.590432</td>\n",
       "      <td>0.528764</td>\n",
       "      <td>-0.272197</td>\n",
       "      <td>2.942104</td>\n",
       "      <td>0.094252</td>\n",
       "      <td>...</td>\n",
       "      <td>0.008289</td>\n",
       "      <td>0.004254</td>\n",
       "      <td>-0.036598</td>\n",
       "      <td>0.006718</td>\n",
       "      <td>-0.003825</td>\n",
       "      <td>0.989790</td>\n",
       "      <td>0.974369</td>\n",
       "      <td>0.975679</td>\n",
       "      <td>7.313833</td>\n",
       "      <td>6.739500</td>\n",
       "    </tr>\n",
       "    <tr>\n",
       "      <th>46</th>\n",
       "      <td>database/painting/47.jpg</td>\n",
       "      <td>-1.514192</td>\n",
       "      <td>0.417460</td>\n",
       "      <td>37.687744</td>\n",
       "      <td>0.612761</td>\n",
       "      <td>0.476112</td>\n",
       "      <td>0.463324</td>\n",
       "      <td>-0.165761</td>\n",
       "      <td>0.033158</td>\n",
       "      <td>0.000000</td>\n",
       "      <td>...</td>\n",
       "      <td>0.039468</td>\n",
       "      <td>0.005507</td>\n",
       "      <td>-0.354794</td>\n",
       "      <td>0.039663</td>\n",
       "      <td>-0.004909</td>\n",
       "      <td>0.990409</td>\n",
       "      <td>0.949757</td>\n",
       "      <td>0.947263</td>\n",
       "      <td>6.777833</td>\n",
       "      <td>5.505333</td>\n",
       "    </tr>\n",
       "    <tr>\n",
       "      <th>47</th>\n",
       "      <td>database/painting/48.jpg</td>\n",
       "      <td>-0.015000</td>\n",
       "      <td>0.291200</td>\n",
       "      <td>19.397039</td>\n",
       "      <td>0.332638</td>\n",
       "      <td>0.621915</td>\n",
       "      <td>0.502302</td>\n",
       "      <td>-0.366211</td>\n",
       "      <td>0.633664</td>\n",
       "      <td>0.000000</td>\n",
       "      <td>...</td>\n",
       "      <td>-0.007153</td>\n",
       "      <td>0.005683</td>\n",
       "      <td>-0.012274</td>\n",
       "      <td>-0.008732</td>\n",
       "      <td>-0.006829</td>\n",
       "      <td>0.993270</td>\n",
       "      <td>0.979781</td>\n",
       "      <td>0.965576</td>\n",
       "      <td>4.141667</td>\n",
       "      <td>7.076500</td>\n",
       "    </tr>\n",
       "  </tbody>\n",
       "</table>\n",
       "<p>3 rows × 25 columns</p>\n",
       "</div>"
      ],
      "text/plain": [
       "                   directory      heat    weight  colorfulness  saturation  \\\n",
       "45  database/painting/46.jpg -0.656439 -0.441647     40.601753    0.551661   \n",
       "46  database/painting/47.jpg -1.514192  0.417460     37.687744    0.612761   \n",
       "47  database/painting/48.jpg -0.015000  0.291200     19.397039    0.332638   \n",
       "\n",
       "    brightness  pleasure  dominance  horizontal_intensity  vertical_intensity  \\\n",
       "45    0.590432  0.528764  -0.272197              2.942104            0.094252   \n",
       "46    0.476112  0.463324  -0.165761              0.033158            0.000000   \n",
       "47    0.621915  0.502302  -0.366211              0.633664            0.000000   \n",
       "\n",
       "    ...  waveletAV  waveletAD  waveletBH  waveletBV  waveletBD  \\\n",
       "45  ...   0.008289   0.004254  -0.036598   0.006718  -0.003825   \n",
       "46  ...   0.039468   0.005507  -0.354794   0.039663  -0.004909   \n",
       "47  ...  -0.007153   0.005683  -0.012274  -0.008732  -0.006829   \n",
       "\n",
       "    vertical_similarity  horizontal_similarity  ruleOfThirds         a  \\\n",
       "45             0.989790               0.974369      0.975679  7.313833   \n",
       "46             0.990409               0.949757      0.947263  6.777833   \n",
       "47             0.993270               0.979781      0.965576  4.141667   \n",
       "\n",
       "           v  \n",
       "45  6.739500  \n",
       "46  5.505333  \n",
       "47  7.076500  \n",
       "\n",
       "[3 rows x 25 columns]"
      ]
     },
     "execution_count": 2,
     "metadata": {},
     "output_type": "execute_result"
    }
   ],
   "source": [
    "import pandas as pd\n",
    "path2csv = './database/metadata.csv'\n",
    "df = pd.read_csv(path2csv)\n",
    "dir_list = []\n",
    "for i in range(len(df)):\n",
    "    dir_list.append('./'+df['directory'][i])\n",
    "df.drop(['name','index'], axis=1, inplace=True)\n",
    "#df.drop(['a','v'], axis=1, inplace=True)\n",
    "df.tail(3)"
   ]
  },
  {
   "cell_type": "code",
   "execution_count": 7,
   "metadata": {
    "colab": {
     "base_uri": "https://localhost:8080/"
    },
    "executionInfo": {
     "elapsed": 277,
     "status": "ok",
     "timestamp": 1629013923258,
     "user": {
      "displayName": "이나혁",
      "photoUrl": "https://lh3.googleusercontent.com/a-/AOh14GgmDM2Pcw1ZQSIoZdYOSzzg-AwjQAorQXTjLB4b=s64",
      "userId": "16382593211465755831"
     },
     "user_tz": -540
    },
    "id": "N-fpWY0LrkPv",
    "outputId": "eb117536-7da1-4f63-d1cd-373d82fdb452"
   },
   "outputs": [
    {
     "data": {
      "text/plain": [
       "<torch._C.Generator at 0x7ff9be6ce590>"
      ]
     },
     "execution_count": 7,
     "metadata": {
      "tags": []
     },
     "output_type": "execute_result"
    }
   ],
   "source": [
    "from PIL import Image\n",
    "import torch\n",
    "from torch.utils.data import Dataset\n",
    "\n",
    "# fix torch random seed\n",
    "torch.manual_seed(0)"
   ]
  },
  {
   "cell_type": "code",
   "execution_count": 8,
   "metadata": {
    "colab": {
     "base_uri": "https://localhost:8080/"
    },
    "executionInfo": {
     "elapsed": 272,
     "status": "ok",
     "timestamp": 1629013924649,
     "user": {
      "displayName": "이나혁",
      "photoUrl": "https://lh3.googleusercontent.com/a-/AOh14GgmDM2Pcw1ZQSIoZdYOSzzg-AwjQAorQXTjLB4b=s64",
      "userId": "16382593211465755831"
     },
     "user_tz": -540
    },
    "id": "yl6KNHzJtjK4",
    "outputId": "4df0d192-00d2-48f9-dc1a-73d9e3f008a0"
   },
   "outputs": [
    {
     "data": {
      "text/plain": [
       "(24,)"
      ]
     },
     "execution_count": 8,
     "metadata": {
      "tags": []
     },
     "output_type": "execute_result"
    }
   ],
   "source": [
    "f = df.iloc[0, 1:]\n",
    "f = np.array([f])\n",
    "f.astype('float').reshape(-1).shape"
   ]
  },
  {
   "cell_type": "code",
   "execution_count": 9,
   "metadata": {
    "executionInfo": {
     "elapsed": 370,
     "status": "ok",
     "timestamp": 1629013925719,
     "user": {
      "displayName": "이나혁",
      "photoUrl": "https://lh3.googleusercontent.com/a-/AOh14GgmDM2Pcw1ZQSIoZdYOSzzg-AwjQAorQXTjLB4b=s64",
      "userId": "16382593211465755831"
     },
     "user_tz": -540
    },
    "id": "zmANGia7tlL2"
   },
   "outputs": [],
   "source": [
    "from PIL import Image\n",
    "\n",
    "class paintingDataset(Dataset):\n",
    "    def __init__(self, dataframe, transform=None):\n",
    "        \n",
    "        self.metadata = dataframe\n",
    "        self.root_dir = './database/painting'\n",
    "        self.transform = transform\n",
    "\n",
    "    def __len__(self):\n",
    "        return len(self.metadata)\n",
    "\n",
    "    def __getitem__(self, idx):\n",
    "        if torch.is_tensor(idx):\n",
    "            idx = idx.tolist()\n",
    "        \n",
    "        img_name = './' + self.metadata.iloc[idx, 0]\n",
    "        image = Image.open(img_name)\n",
    "        feature = self.metadata.iloc[idx,-2:]\n",
    "        feature = np.array([feature])\n",
    "        feature = feature.astype('float').reshape(-1)\n",
    "        \n",
    "        #sample = {'image': image, 'feature': feature}\n",
    "        \n",
    "        if self.transform is not None:\n",
    "            image = self.transform(image)\n",
    "\n",
    "        return image, feature"
   ]
  },
  {
   "cell_type": "code",
   "execution_count": 11,
   "metadata": {
    "executionInfo": {
     "elapsed": 524,
     "status": "ok",
     "timestamp": 1629013933795,
     "user": {
      "displayName": "이나혁",
      "photoUrl": "https://lh3.googleusercontent.com/a-/AOh14GgmDM2Pcw1ZQSIoZdYOSzzg-AwjQAorQXTjLB4b=s64",
      "userId": "16382593211465755831"
     },
     "user_tz": -540
    },
    "id": "2K9YbcYgt3It"
   },
   "outputs": [],
   "source": [
    "train_dataset = paintingDataset(df[:30],transform=transforms.Compose([\n",
    "                                               transforms.Resize(256),\n",
    "                                               transforms.RandomCrop(224),\n",
    "                                               transforms.ToTensor(),\n",
    "    transforms.Normalize((0.5, 0.5, 0.5), (0.5, 0.5, 0.5))\n",
    "                                           ]))\n",
    "\n",
    "test_dataset = paintingDataset(df[30:],transform=transforms.Compose([\n",
    "                                               transforms.Resize(256),\n",
    "                                               transforms.RandomCrop(224),\n",
    "                                               transforms.ToTensor(),\n",
    "    transforms.Normalize((0.5, 0.5, 0.5), (0.5, 0.5, 0.5))\n",
    "                                           ]))"
   ]
  },
  {
   "cell_type": "code",
   "execution_count": 15,
   "metadata": {
    "executionInfo": {
     "elapsed": 267,
     "status": "ok",
     "timestamp": 1629013948691,
     "user": {
      "displayName": "이나혁",
      "photoUrl": "https://lh3.googleusercontent.com/a-/AOh14GgmDM2Pcw1ZQSIoZdYOSzzg-AwjQAorQXTjLB4b=s64",
      "userId": "16382593211465755831"
     },
     "user_tz": -540
    },
    "id": "fJgpun6VuHID"
   },
   "outputs": [],
   "source": [
    "train_loader = torch.utils.data.DataLoader(train_dataset,\n",
    "                                             batch_size=4, \n",
    "                                             shuffle=True)\n",
    "test_loader = torch.utils.data.DataLoader(test_dataset,\n",
    "                                             batch_size=4, \n",
    "                                             shuffle=False)"
   ]
  },
  {
   "cell_type": "code",
   "execution_count": 18,
   "metadata": {
    "colab": {
     "base_uri": "https://localhost:8080/",
     "height": 204
    },
    "executionInfo": {
     "elapsed": 1121,
     "status": "ok",
     "timestamp": 1629013962511,
     "user": {
      "displayName": "이나혁",
      "photoUrl": "https://lh3.googleusercontent.com/a-/AOh14GgmDM2Pcw1ZQSIoZdYOSzzg-AwjQAorQXTjLB4b=s64",
      "userId": "16382593211465755831"
     },
     "user_tz": -540
    },
    "id": "2OCkbkVOuIhl",
    "outputId": "91164389-7bfa-4f7e-e2b3-3a81c4e99179"
   },
   "outputs": [
    {
     "data": {
      "image/png": "[encoded data removed]",
      "text/plain": [
       "<Figure size 432x288 with 1 Axes>"
      ]
     },
     "metadata": {
      "needs_background": "light",
      "tags": []
     },
     "output_type": "display_data"
    },
    {
     "name": "stdout",
     "output_type": "stream",
     "text": [
      "tensor([[4.1650, 4.1345],\n",
      "        [4.6630, 4.8930],\n",
      "        [4.8392, 5.8505],\n",
      "        [5.1378, 2.2723]], dtype=torch.float64)\n"
     ]
    }
   ],
   "source": [
    "def imshow(img):\n",
    "    img = img / 2 + 0.5 #unnormalize\n",
    "    npimg = img.numpy()\n",
    "    plt.imshow(np.transpose(npimg, (1,2,0)))\n",
    "    plt.show()\n",
    "\n",
    "dataiter = iter(train_loader)\n",
    "images, features = dataiter.next()\n",
    "\n",
    "imshow(torchvision.utils.make_grid(images))\n",
    "print(features)"
   ]
  },
  {
   "cell_type": "code",
   "execution_count": 44,
   "metadata": {
    "executionInfo": {
     "elapsed": 630,
     "status": "ok",
     "timestamp": 1629015303882,
     "user": {
      "displayName": "이나혁",
      "photoUrl": "https://lh3.googleusercontent.com/a-/AOh14GgmDM2Pcw1ZQSIoZdYOSzzg-AwjQAorQXTjLB4b=s64",
      "userId": "16382593211465755831"
     },
     "user_tz": -540
    },
    "id": "qVHI-FFPw2u6"
   },
   "outputs": [],
   "source": [
    "from model.resnet import *\n",
    "device = torch.device('cuda' if torch.cuda.is_available() else 'cpu')\n",
    "model = resnet50().to(device)\n",
    "\n",
    "num_epochs = 200\n",
    "loss_func = nn.MSELoss()\n",
    "opt = optim.Adam(model.parameters(), lr=0.001)"
   ]
  },
  {
   "cell_type": "code",
   "execution_count": 53,
   "metadata": {
    "colab": {
     "base_uri": "https://localhost:8080/"
    },
    "executionInfo": {
     "elapsed": 224287,
     "status": "ok",
     "timestamp": 1629015702487,
     "user": {
      "displayName": "이나혁",
      "photoUrl": "https://lh3.googleusercontent.com/a-/AOh14GgmDM2Pcw1ZQSIoZdYOSzzg-AwjQAorQXTjLB4b=s64",
      "userId": "16382593211465755831"
     },
     "user_tz": -540
    },
    "id": "f3I3l4wauKE6",
    "outputId": "7fd354bd-3856-4b96-eb15-db717ff82d11"
   },
   "outputs": [
    {
     "name": "stdout",
     "output_type": "stream",
     "text": [
      "epoch 0, feature loss: 11.176\n",
      "test a_mse 2.517, v_mse 20.613\n",
      "epoch 10, feature loss: 3.760\n",
      "test a_mse 2.377, v_mse 2.674\n",
      "epoch 20, feature loss: 2.110\n",
      "test a_mse 2.593, v_mse 2.817\n",
      "epoch 30, feature loss: 2.059\n",
      "test a_mse 1.766, v_mse 1.656\n",
      "epoch 40, feature loss: 1.720\n",
      "test a_mse 1.796, v_mse 1.564\n",
      "epoch 50, feature loss: 1.801\n",
      "test a_mse 1.638, v_mse 1.284\n",
      "epoch 60, feature loss: 1.754\n",
      "test a_mse 1.324, v_mse 1.184\n",
      "epoch 70, feature loss: 1.248\n",
      "test a_mse 1.485, v_mse 1.494\n",
      "epoch 80, feature loss: 1.095\n",
      "test a_mse 1.080, v_mse 0.808\n",
      "epoch 90, feature loss: 0.996\n",
      "test a_mse 1.233, v_mse 1.153\n",
      "epoch 100, feature loss: 1.058\n",
      "test a_mse 1.137, v_mse 0.559\n",
      "epoch 110, feature loss: 0.791\n",
      "test a_mse 0.984, v_mse 0.698\n",
      "epoch 120, feature loss: 0.956\n",
      "test a_mse 0.946, v_mse 0.633\n",
      "epoch 130, feature loss: 0.949\n",
      "test a_mse 0.803, v_mse 0.555\n",
      "epoch 140, feature loss: 0.850\n",
      "test a_mse 1.362, v_mse 0.480\n",
      "epoch 150, feature loss: 0.591\n",
      "test a_mse 0.668, v_mse 0.217\n",
      "epoch 160, feature loss: 0.536\n",
      "test a_mse 0.304, v_mse 0.413\n",
      "epoch 170, feature loss: 0.317\n",
      "test a_mse 0.567, v_mse 0.241\n",
      "epoch 180, feature loss: 0.536\n",
      "test a_mse 0.713, v_mse 0.187\n",
      "epoch 190, feature loss: 0.225\n",
      "test a_mse 0.330, v_mse 0.201\n"
     ]
    }
   ],
   "source": [
    "for epoch in range(num_epochs):\n",
    "    running_loss = 0.0\n",
    "    \n",
    "    for data in train_loader:\n",
    "        inputs, gt = data[0].to(device), data[1].to(device)\n",
    "        \n",
    "        opt.zero_grad()\n",
    "        av = model(inputs)\n",
    "        #print(av.size())\n",
    "        #print(gt.size())\n",
    "        loss = loss_func(av, gt.float())\n",
    "        loss.backward()\n",
    "        \n",
    "        opt.step()\n",
    "\n",
    "        running_loss += loss.item()\n",
    "\n",
    "    cost = running_loss / len(train_loader)\n",
    "    if epoch % 10 == 0 :\n",
    "        print('epoch %d, feature loss: %.3f' %(epoch, cost))\n",
    "        a_mse, v_mse = testing(model)[0], testing(model)[1]\n",
    "        print('test a_mse %.3f, v_mse %.3f' %(a_mse, v_mse))"
   ]
  },
  {
   "cell_type": "code",
   "execution_count": 50,
   "metadata": {
    "executionInfo": {
     "elapsed": 2,
     "status": "ok",
     "timestamp": 1629015401135,
     "user": {
      "displayName": "이나혁",
      "photoUrl": "https://lh3.googleusercontent.com/a-/AOh14GgmDM2Pcw1ZQSIoZdYOSzzg-AwjQAorQXTjLB4b=s64",
      "userId": "16382593211465755831"
     },
     "user_tz": -540
    },
    "id": "CLJHefrXx5An"
   },
   "outputs": [],
   "source": [
    "def testing(model):\n",
    "  with torch.no_grad():\n",
    "    a_temp = 0.0\n",
    "    v_temp = 0.0\n",
    "    for data in train_loader:\n",
    "        model = model.to(device)\n",
    "        model = model.eval()\n",
    "\n",
    "        inputs, gt = data[0].to(device), data[1].to(device)\n",
    "        output = model(inputs)\n",
    "\n",
    "        #print(mean_squared_error(output.cpu(), gt.cpu()))\n",
    "        #print(output[:,0])\n",
    "        a_temp += mean_squared_error(output[:,0].cpu(), gt[:,0].cpu())\n",
    "        v_temp += mean_squared_error(output[:,1].cpu(), gt[:,1].cpu())\n",
    "    A_MSE = a_temp / len(train_loader)\n",
    "    V_MSE = v_temp / len(train_loader)\n",
    "    return A_MSE, V_MSE"
   ]
  },
  {
   "cell_type": "code",
   "execution_count": null,
   "metadata": {
    "id": "NzeAPa9S4cOe"
   },
   "outputs": [],
   "source": []
  }
 ],
 "metadata": {
  "accelerator": "GPU",
  "colab": {
   "authorship_tag": "ABX9TyOufxVCGrtFoxTpKbDJBJ1P",
   "collapsed_sections": [],
   "name": "ResNet50.ipynb",
   "provenance": []
  },
  "kernelspec": {
   "display_name": "Python 3",
   "language": "python",
   "name": "python3"
  },
  "language_info": {
   "codemirror_mode": {
    "name": "ipython",
    "version": 3
   },
   "file_extension": ".py",
   "mimetype": "text/x-python",
   "name": "python",
   "nbconvert_exporter": "python",
   "pygments_lexer": "ipython3",
   "version": "3.6.13"
  }
 },
 "nbformat": 4,
 "nbformat_minor": 1
}
